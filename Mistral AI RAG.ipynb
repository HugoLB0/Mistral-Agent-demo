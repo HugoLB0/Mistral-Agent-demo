{
 "cells": [
  {
   "cell_type": "markdown",
   "metadata": {},
   "source": [
    "# Langchain basic RAG using Mitsral AI"
   ]
  },
  {
   "cell_type": "code",
   "execution_count": 1,
   "metadata": {},
   "outputs": [
    {
     "name": "stdout",
     "output_type": "stream",
     "text": [
      "Requirement already satisfied: pypdf in /Users/hugolb/miniconda3/envs/langchain-env/lib/python3.9/site-packages (4.2.0)\n",
      "Requirement already satisfied: python-dotenv in /Users/hugolb/miniconda3/envs/langchain-env/lib/python3.9/site-packages (1.0.0)\n",
      "Requirement already satisfied: langchain in /Users/hugolb/miniconda3/envs/langchain-env/lib/python3.9/site-packages (0.1.16)\n",
      "Requirement already satisfied: langchain-core in /Users/hugolb/miniconda3/envs/langchain-env/lib/python3.9/site-packages (0.1.43)\n",
      "Requirement already satisfied: langchain-mistralai in /Users/hugolb/miniconda3/envs/langchain-env/lib/python3.9/site-packages (0.0.4)\n",
      "Requirement already satisfied: langchainhub in /Users/hugolb/miniconda3/envs/langchain-env/lib/python3.9/site-packages (0.1.15)\n",
      "Requirement already satisfied: langchain-experimental in /Users/hugolb/miniconda3/envs/langchain-env/lib/python3.9/site-packages (0.0.57)\n",
      "Requirement already satisfied: chromadb in /Users/hugolb/miniconda3/envs/langchain-env/lib/python3.9/site-packages (0.4.24)\n",
      "Requirement already satisfied: typing_extensions>=4.0 in /Users/hugolb/miniconda3/envs/langchain-env/lib/python3.9/site-packages (from pypdf) (4.9.0)\n",
      "Requirement already satisfied: PyYAML>=5.3 in /Users/hugolb/miniconda3/envs/langchain-env/lib/python3.9/site-packages (from langchain) (6.0.1)\n",
      "Requirement already satisfied: SQLAlchemy<3,>=1.4 in /Users/hugolb/miniconda3/envs/langchain-env/lib/python3.9/site-packages (from langchain) (2.0.25)\n",
      "Requirement already satisfied: aiohttp<4.0.0,>=3.8.3 in /Users/hugolb/miniconda3/envs/langchain-env/lib/python3.9/site-packages (from langchain) (3.9.1)\n",
      "Requirement already satisfied: async-timeout<5.0.0,>=4.0.0 in /Users/hugolb/miniconda3/envs/langchain-env/lib/python3.9/site-packages (from langchain) (4.0.3)\n",
      "Requirement already satisfied: dataclasses-json<0.7,>=0.5.7 in /Users/hugolb/miniconda3/envs/langchain-env/lib/python3.9/site-packages (from langchain) (0.6.3)\n",
      "Requirement already satisfied: jsonpatch<2.0,>=1.33 in /Users/hugolb/miniconda3/envs/langchain-env/lib/python3.9/site-packages (from langchain) (1.33)\n",
      "Requirement already satisfied: langchain-community<0.1,>=0.0.32 in /Users/hugolb/miniconda3/envs/langchain-env/lib/python3.9/site-packages (from langchain) (0.0.33)\n",
      "Requirement already satisfied: langchain-text-splitters<0.1,>=0.0.1 in /Users/hugolb/miniconda3/envs/langchain-env/lib/python3.9/site-packages (from langchain) (0.0.1)\n",
      "Requirement already satisfied: langsmith<0.2.0,>=0.1.17 in /Users/hugolb/miniconda3/envs/langchain-env/lib/python3.9/site-packages (from langchain) (0.1.48)\n",
      "Requirement already satisfied: numpy<2,>=1 in /Users/hugolb/miniconda3/envs/langchain-env/lib/python3.9/site-packages (from langchain) (1.26.3)\n",
      "Requirement already satisfied: pydantic<3,>=1 in /Users/hugolb/miniconda3/envs/langchain-env/lib/python3.9/site-packages (from langchain) (2.5.3)\n",
      "Requirement already satisfied: requests<3,>=2 in /Users/hugolb/miniconda3/envs/langchain-env/lib/python3.9/site-packages (from langchain) (2.31.0)\n",
      "Requirement already satisfied: tenacity<9.0.0,>=8.1.0 in /Users/hugolb/miniconda3/envs/langchain-env/lib/python3.9/site-packages (from langchain) (8.2.3)\n",
      "Requirement already satisfied: packaging<24.0,>=23.2 in /Users/hugolb/miniconda3/envs/langchain-env/lib/python3.9/site-packages (from langchain-core) (23.2)\n",
      "Requirement already satisfied: mistralai<0.0.12,>=0.0.11 in /Users/hugolb/miniconda3/envs/langchain-env/lib/python3.9/site-packages (from langchain-mistralai) (0.0.11)\n",
      "Requirement already satisfied: tokenizers<0.16.0,>=0.15.1 in /Users/hugolb/miniconda3/envs/langchain-env/lib/python3.9/site-packages (from langchain-mistralai) (0.15.2)\n",
      "Requirement already satisfied: types-requests<3.0.0.0,>=2.31.0.2 in /Users/hugolb/miniconda3/envs/langchain-env/lib/python3.9/site-packages (from langchainhub) (2.31.0.20240406)\n",
      "Requirement already satisfied: build>=1.0.3 in /Users/hugolb/miniconda3/envs/langchain-env/lib/python3.9/site-packages (from chromadb) (1.2.1)\n",
      "Requirement already satisfied: chroma-hnswlib==0.7.3 in /Users/hugolb/miniconda3/envs/langchain-env/lib/python3.9/site-packages (from chromadb) (0.7.3)\n",
      "Requirement already satisfied: fastapi>=0.95.2 in /Users/hugolb/miniconda3/envs/langchain-env/lib/python3.9/site-packages (from chromadb) (0.110.1)\n",
      "Requirement already satisfied: uvicorn>=0.18.3 in /Users/hugolb/miniconda3/envs/langchain-env/lib/python3.9/site-packages (from uvicorn[standard]>=0.18.3->chromadb) (0.29.0)\n",
      "Requirement already satisfied: posthog>=2.4.0 in /Users/hugolb/miniconda3/envs/langchain-env/lib/python3.9/site-packages (from chromadb) (3.5.0)\n",
      "Requirement already satisfied: pulsar-client>=3.1.0 in /Users/hugolb/miniconda3/envs/langchain-env/lib/python3.9/site-packages (from chromadb) (3.5.0)\n",
      "Requirement already satisfied: onnxruntime>=1.14.1 in /Users/hugolb/miniconda3/envs/langchain-env/lib/python3.9/site-packages (from chromadb) (1.17.3)\n",
      "Requirement already satisfied: opentelemetry-api>=1.2.0 in /Users/hugolb/miniconda3/envs/langchain-env/lib/python3.9/site-packages (from chromadb) (1.24.0)\n",
      "Requirement already satisfied: opentelemetry-exporter-otlp-proto-grpc>=1.2.0 in /Users/hugolb/miniconda3/envs/langchain-env/lib/python3.9/site-packages (from chromadb) (1.24.0)\n",
      "Requirement already satisfied: opentelemetry-instrumentation-fastapi>=0.41b0 in /Users/hugolb/miniconda3/envs/langchain-env/lib/python3.9/site-packages (from chromadb) (0.45b0)\n",
      "Requirement already satisfied: opentelemetry-sdk>=1.2.0 in /Users/hugolb/miniconda3/envs/langchain-env/lib/python3.9/site-packages (from chromadb) (1.24.0)\n",
      "Requirement already satisfied: pypika>=0.48.9 in /Users/hugolb/miniconda3/envs/langchain-env/lib/python3.9/site-packages (from chromadb) (0.48.9)\n",
      "Requirement already satisfied: tqdm>=4.65.0 in /Users/hugolb/miniconda3/envs/langchain-env/lib/python3.9/site-packages (from chromadb) (4.66.1)\n",
      "Requirement already satisfied: overrides>=7.3.1 in /Users/hugolb/miniconda3/envs/langchain-env/lib/python3.9/site-packages (from chromadb) (7.7.0)\n",
      "Requirement already satisfied: importlib-resources in /Users/hugolb/miniconda3/envs/langchain-env/lib/python3.9/site-packages (from chromadb) (6.1.1)\n",
      "Requirement already satisfied: grpcio>=1.58.0 in /Users/hugolb/miniconda3/envs/langchain-env/lib/python3.9/site-packages (from chromadb) (1.62.1)\n",
      "Requirement already satisfied: bcrypt>=4.0.1 in /Users/hugolb/miniconda3/envs/langchain-env/lib/python3.9/site-packages (from chromadb) (4.1.2)\n",
      "Requirement already satisfied: typer>=0.9.0 in /Users/hugolb/miniconda3/envs/langchain-env/lib/python3.9/site-packages (from chromadb) (0.12.3)\n",
      "Requirement already satisfied: kubernetes>=28.1.0 in /Users/hugolb/miniconda3/envs/langchain-env/lib/python3.9/site-packages (from chromadb) (29.0.0)\n",
      "Requirement already satisfied: mmh3>=4.0.1 in /Users/hugolb/miniconda3/envs/langchain-env/lib/python3.9/site-packages (from chromadb) (4.1.0)\n",
      "Requirement already satisfied: orjson>=3.9.12 in /Users/hugolb/miniconda3/envs/langchain-env/lib/python3.9/site-packages (from chromadb) (3.10.1)\n",
      "Requirement already satisfied: attrs>=17.3.0 in /Users/hugolb/miniconda3/envs/langchain-env/lib/python3.9/site-packages (from aiohttp<4.0.0,>=3.8.3->langchain) (23.2.0)\n",
      "Requirement already satisfied: multidict<7.0,>=4.5 in /Users/hugolb/miniconda3/envs/langchain-env/lib/python3.9/site-packages (from aiohttp<4.0.0,>=3.8.3->langchain) (6.0.4)\n",
      "Requirement already satisfied: yarl<2.0,>=1.0 in /Users/hugolb/miniconda3/envs/langchain-env/lib/python3.9/site-packages (from aiohttp<4.0.0,>=3.8.3->langchain) (1.9.4)\n",
      "Requirement already satisfied: frozenlist>=1.1.1 in /Users/hugolb/miniconda3/envs/langchain-env/lib/python3.9/site-packages (from aiohttp<4.0.0,>=3.8.3->langchain) (1.4.1)\n",
      "Requirement already satisfied: aiosignal>=1.1.2 in /Users/hugolb/miniconda3/envs/langchain-env/lib/python3.9/site-packages (from aiohttp<4.0.0,>=3.8.3->langchain) (1.3.1)\n",
      "Requirement already satisfied: pyproject_hooks in /Users/hugolb/miniconda3/envs/langchain-env/lib/python3.9/site-packages (from build>=1.0.3->chromadb) (1.0.0)\n",
      "Requirement already satisfied: importlib-metadata>=4.6 in /Users/hugolb/miniconda3/envs/langchain-env/lib/python3.9/site-packages (from build>=1.0.3->chromadb) (7.0.0)\n",
      "Requirement already satisfied: tomli>=1.1.0 in /Users/hugolb/miniconda3/envs/langchain-env/lib/python3.9/site-packages (from build>=1.0.3->chromadb) (2.0.1)\n",
      "Requirement already satisfied: marshmallow<4.0.0,>=3.18.0 in /Users/hugolb/miniconda3/envs/langchain-env/lib/python3.9/site-packages (from dataclasses-json<0.7,>=0.5.7->langchain) (3.20.2)\n",
      "Requirement already satisfied: typing-inspect<1,>=0.4.0 in /Users/hugolb/miniconda3/envs/langchain-env/lib/python3.9/site-packages (from dataclasses-json<0.7,>=0.5.7->langchain) (0.9.0)\n",
      "Requirement already satisfied: starlette<0.38.0,>=0.37.2 in /Users/hugolb/miniconda3/envs/langchain-env/lib/python3.9/site-packages (from fastapi>=0.95.2->chromadb) (0.37.2)\n",
      "Requirement already satisfied: jsonpointer>=1.9 in /Users/hugolb/miniconda3/envs/langchain-env/lib/python3.9/site-packages (from jsonpatch<2.0,>=1.33->langchain) (2.4)\n",
      "Requirement already satisfied: certifi>=14.05.14 in /Users/hugolb/miniconda3/envs/langchain-env/lib/python3.9/site-packages (from kubernetes>=28.1.0->chromadb) (2023.11.17)\n",
      "Requirement already satisfied: six>=1.9.0 in /Users/hugolb/miniconda3/envs/langchain-env/lib/python3.9/site-packages (from kubernetes>=28.1.0->chromadb) (1.16.0)\n",
      "Requirement already satisfied: python-dateutil>=2.5.3 in /Users/hugolb/miniconda3/envs/langchain-env/lib/python3.9/site-packages (from kubernetes>=28.1.0->chromadb) (2.8.2)\n",
      "Requirement already satisfied: google-auth>=1.0.1 in /Users/hugolb/miniconda3/envs/langchain-env/lib/python3.9/site-packages (from kubernetes>=28.1.0->chromadb) (2.29.0)\n",
      "Requirement already satisfied: websocket-client!=0.40.0,!=0.41.*,!=0.42.*,>=0.32.0 in /Users/hugolb/miniconda3/envs/langchain-env/lib/python3.9/site-packages (from kubernetes>=28.1.0->chromadb) (1.7.0)\n",
      "Requirement already satisfied: requests-oauthlib in /Users/hugolb/miniconda3/envs/langchain-env/lib/python3.9/site-packages (from kubernetes>=28.1.0->chromadb) (2.0.0)\n",
      "Requirement already satisfied: oauthlib>=3.2.2 in /Users/hugolb/miniconda3/envs/langchain-env/lib/python3.9/site-packages (from kubernetes>=28.1.0->chromadb) (3.2.2)\n",
      "Requirement already satisfied: urllib3>=1.24.2 in /Users/hugolb/miniconda3/envs/langchain-env/lib/python3.9/site-packages (from kubernetes>=28.1.0->chromadb) (2.1.0)\n",
      "Requirement already satisfied: httpx<0.26.0,>=0.25.2 in /Users/hugolb/miniconda3/envs/langchain-env/lib/python3.9/site-packages (from mistralai<0.0.12,>=0.0.11->langchain-mistralai) (0.25.2)\n",
      "Requirement already satisfied: coloredlogs in /Users/hugolb/miniconda3/envs/langchain-env/lib/python3.9/site-packages (from onnxruntime>=1.14.1->chromadb) (15.0.1)\n",
      "Requirement already satisfied: flatbuffers in /Users/hugolb/miniconda3/envs/langchain-env/lib/python3.9/site-packages (from onnxruntime>=1.14.1->chromadb) (24.3.25)\n",
      "Requirement already satisfied: protobuf in /Users/hugolb/miniconda3/envs/langchain-env/lib/python3.9/site-packages (from onnxruntime>=1.14.1->chromadb) (4.25.3)\n",
      "Requirement already satisfied: sympy in /Users/hugolb/miniconda3/envs/langchain-env/lib/python3.9/site-packages (from onnxruntime>=1.14.1->chromadb) (1.12)\n",
      "Requirement already satisfied: deprecated>=1.2.6 in /Users/hugolb/miniconda3/envs/langchain-env/lib/python3.9/site-packages (from opentelemetry-api>=1.2.0->chromadb) (1.2.14)\n",
      "Requirement already satisfied: googleapis-common-protos~=1.52 in /Users/hugolb/miniconda3/envs/langchain-env/lib/python3.9/site-packages (from opentelemetry-exporter-otlp-proto-grpc>=1.2.0->chromadb) (1.63.0)\n",
      "Requirement already satisfied: opentelemetry-exporter-otlp-proto-common==1.24.0 in /Users/hugolb/miniconda3/envs/langchain-env/lib/python3.9/site-packages (from opentelemetry-exporter-otlp-proto-grpc>=1.2.0->chromadb) (1.24.0)\n",
      "Requirement already satisfied: opentelemetry-proto==1.24.0 in /Users/hugolb/miniconda3/envs/langchain-env/lib/python3.9/site-packages (from opentelemetry-exporter-otlp-proto-grpc>=1.2.0->chromadb) (1.24.0)\n",
      "Requirement already satisfied: opentelemetry-instrumentation-asgi==0.45b0 in /Users/hugolb/miniconda3/envs/langchain-env/lib/python3.9/site-packages (from opentelemetry-instrumentation-fastapi>=0.41b0->chromadb) (0.45b0)\n",
      "Requirement already satisfied: opentelemetry-instrumentation==0.45b0 in /Users/hugolb/miniconda3/envs/langchain-env/lib/python3.9/site-packages (from opentelemetry-instrumentation-fastapi>=0.41b0->chromadb) (0.45b0)\n",
      "Requirement already satisfied: opentelemetry-semantic-conventions==0.45b0 in /Users/hugolb/miniconda3/envs/langchain-env/lib/python3.9/site-packages (from opentelemetry-instrumentation-fastapi>=0.41b0->chromadb) (0.45b0)\n",
      "Requirement already satisfied: opentelemetry-util-http==0.45b0 in /Users/hugolb/miniconda3/envs/langchain-env/lib/python3.9/site-packages (from opentelemetry-instrumentation-fastapi>=0.41b0->chromadb) (0.45b0)\n",
      "Requirement already satisfied: setuptools>=16.0 in /Users/hugolb/miniconda3/envs/langchain-env/lib/python3.9/site-packages (from opentelemetry-instrumentation==0.45b0->opentelemetry-instrumentation-fastapi>=0.41b0->chromadb) (68.2.2)\n",
      "Requirement already satisfied: wrapt<2.0.0,>=1.0.0 in /Users/hugolb/miniconda3/envs/langchain-env/lib/python3.9/site-packages (from opentelemetry-instrumentation==0.45b0->opentelemetry-instrumentation-fastapi>=0.41b0->chromadb) (1.16.0)\n",
      "Requirement already satisfied: asgiref~=3.0 in /Users/hugolb/miniconda3/envs/langchain-env/lib/python3.9/site-packages (from opentelemetry-instrumentation-asgi==0.45b0->opentelemetry-instrumentation-fastapi>=0.41b0->chromadb) (3.8.1)\n",
      "Requirement already satisfied: monotonic>=1.5 in /Users/hugolb/miniconda3/envs/langchain-env/lib/python3.9/site-packages (from posthog>=2.4.0->chromadb) (1.6)\n",
      "Requirement already satisfied: backoff>=1.10.0 in /Users/hugolb/miniconda3/envs/langchain-env/lib/python3.9/site-packages (from posthog>=2.4.0->chromadb) (2.2.1)\n",
      "Requirement already satisfied: annotated-types>=0.4.0 in /Users/hugolb/miniconda3/envs/langchain-env/lib/python3.9/site-packages (from pydantic<3,>=1->langchain) (0.6.0)\n",
      "Requirement already satisfied: pydantic-core==2.14.6 in /Users/hugolb/miniconda3/envs/langchain-env/lib/python3.9/site-packages (from pydantic<3,>=1->langchain) (2.14.6)\n",
      "Requirement already satisfied: charset-normalizer<4,>=2 in /Users/hugolb/miniconda3/envs/langchain-env/lib/python3.9/site-packages (from requests<3,>=2->langchain) (3.3.2)\n",
      "Requirement already satisfied: idna<4,>=2.5 in /Users/hugolb/miniconda3/envs/langchain-env/lib/python3.9/site-packages (from requests<3,>=2->langchain) (3.6)\n",
      "Requirement already satisfied: huggingface_hub<1.0,>=0.16.4 in /Users/hugolb/miniconda3/envs/langchain-env/lib/python3.9/site-packages (from tokenizers<0.16.0,>=0.15.1->langchain-mistralai) (0.22.2)\n",
      "Requirement already satisfied: click>=8.0.0 in /Users/hugolb/miniconda3/envs/langchain-env/lib/python3.9/site-packages (from typer>=0.9.0->chromadb) (8.1.7)\n",
      "Requirement already satisfied: shellingham>=1.3.0 in /Users/hugolb/miniconda3/envs/langchain-env/lib/python3.9/site-packages (from typer>=0.9.0->chromadb) (1.5.4)\n",
      "Requirement already satisfied: rich>=10.11.0 in /Users/hugolb/miniconda3/envs/langchain-env/lib/python3.9/site-packages (from typer>=0.9.0->chromadb) (13.7.0)\n",
      "Requirement already satisfied: h11>=0.8 in /Users/hugolb/miniconda3/envs/langchain-env/lib/python3.9/site-packages (from uvicorn>=0.18.3->uvicorn[standard]>=0.18.3->chromadb) (0.14.0)\n",
      "Requirement already satisfied: httptools>=0.5.0 in /Users/hugolb/miniconda3/envs/langchain-env/lib/python3.9/site-packages (from uvicorn[standard]>=0.18.3->chromadb) (0.6.1)\n",
      "Requirement already satisfied: uvloop!=0.15.0,!=0.15.1,>=0.14.0 in /Users/hugolb/miniconda3/envs/langchain-env/lib/python3.9/site-packages (from uvicorn[standard]>=0.18.3->chromadb) (0.19.0)\n",
      "Requirement already satisfied: watchfiles>=0.13 in /Users/hugolb/miniconda3/envs/langchain-env/lib/python3.9/site-packages (from uvicorn[standard]>=0.18.3->chromadb) (0.21.0)\n",
      "Requirement already satisfied: websockets>=10.4 in /Users/hugolb/miniconda3/envs/langchain-env/lib/python3.9/site-packages (from uvicorn[standard]>=0.18.3->chromadb) (12.0)\n",
      "Requirement already satisfied: zipp>=3.1.0 in /Users/hugolb/miniconda3/envs/langchain-env/lib/python3.9/site-packages (from importlib-resources->chromadb) (3.17.0)\n",
      "Requirement already satisfied: cachetools<6.0,>=2.0.0 in /Users/hugolb/miniconda3/envs/langchain-env/lib/python3.9/site-packages (from google-auth>=1.0.1->kubernetes>=28.1.0->chromadb) (5.3.2)\n",
      "Requirement already satisfied: pyasn1-modules>=0.2.1 in /Users/hugolb/miniconda3/envs/langchain-env/lib/python3.9/site-packages (from google-auth>=1.0.1->kubernetes>=28.1.0->chromadb) (0.4.0)\n",
      "Requirement already satisfied: rsa<5,>=3.1.4 in /Users/hugolb/miniconda3/envs/langchain-env/lib/python3.9/site-packages (from google-auth>=1.0.1->kubernetes>=28.1.0->chromadb) (4.9)\n",
      "Requirement already satisfied: anyio in /Users/hugolb/miniconda3/envs/langchain-env/lib/python3.9/site-packages (from httpx<0.26.0,>=0.25.2->mistralai<0.0.12,>=0.0.11->langchain-mistralai) (4.2.0)\n",
      "Requirement already satisfied: httpcore==1.* in /Users/hugolb/miniconda3/envs/langchain-env/lib/python3.9/site-packages (from httpx<0.26.0,>=0.25.2->mistralai<0.0.12,>=0.0.11->langchain-mistralai) (1.0.2)\n",
      "Requirement already satisfied: sniffio in /Users/hugolb/miniconda3/envs/langchain-env/lib/python3.9/site-packages (from httpx<0.26.0,>=0.25.2->mistralai<0.0.12,>=0.0.11->langchain-mistralai) (1.3.0)\n",
      "Requirement already satisfied: filelock in /Users/hugolb/miniconda3/envs/langchain-env/lib/python3.9/site-packages (from huggingface_hub<1.0,>=0.16.4->tokenizers<0.16.0,>=0.15.1->langchain-mistralai) (3.13.1)\n",
      "Requirement already satisfied: fsspec>=2023.5.0 in /Users/hugolb/miniconda3/envs/langchain-env/lib/python3.9/site-packages (from huggingface_hub<1.0,>=0.16.4->tokenizers<0.16.0,>=0.15.1->langchain-mistralai) (2023.12.2)\n",
      "Requirement already satisfied: markdown-it-py>=2.2.0 in /Users/hugolb/miniconda3/envs/langchain-env/lib/python3.9/site-packages (from rich>=10.11.0->typer>=0.9.0->chromadb) (3.0.0)\n",
      "Requirement already satisfied: pygments<3.0.0,>=2.13.0 in /Users/hugolb/miniconda3/envs/langchain-env/lib/python3.9/site-packages (from rich>=10.11.0->typer>=0.9.0->chromadb) (2.17.2)\n",
      "Requirement already satisfied: mypy-extensions>=0.3.0 in /Users/hugolb/miniconda3/envs/langchain-env/lib/python3.9/site-packages (from typing-inspect<1,>=0.4.0->dataclasses-json<0.7,>=0.5.7->langchain) (1.0.0)\n",
      "Requirement already satisfied: humanfriendly>=9.1 in /Users/hugolb/miniconda3/envs/langchain-env/lib/python3.9/site-packages (from coloredlogs->onnxruntime>=1.14.1->chromadb) (10.0)\n",
      "Requirement already satisfied: mpmath>=0.19 in /Users/hugolb/miniconda3/envs/langchain-env/lib/python3.9/site-packages (from sympy->onnxruntime>=1.14.1->chromadb) (1.3.0)\n",
      "Requirement already satisfied: exceptiongroup>=1.0.2 in /Users/hugolb/miniconda3/envs/langchain-env/lib/python3.9/site-packages (from anyio->httpx<0.26.0,>=0.25.2->mistralai<0.0.12,>=0.0.11->langchain-mistralai) (1.2.0)\n",
      "Requirement already satisfied: mdurl~=0.1 in /Users/hugolb/miniconda3/envs/langchain-env/lib/python3.9/site-packages (from markdown-it-py>=2.2.0->rich>=10.11.0->typer>=0.9.0->chromadb) (0.1.2)\n",
      "Requirement already satisfied: pyasn1<0.7.0,>=0.4.6 in /Users/hugolb/miniconda3/envs/langchain-env/lib/python3.9/site-packages (from pyasn1-modules>=0.2.1->google-auth>=1.0.1->kubernetes>=28.1.0->chromadb) (0.6.0)\n",
      "Note: you may need to restart the kernel to use updated packages.\n"
     ]
    }
   ],
   "source": [
    "%pip install pypdf python-dotenv langchain langchain-core langchain-mistralai langchainhub langchain-experimental chromadb"
   ]
  },
  {
   "cell_type": "code",
   "execution_count": 2,
   "metadata": {},
   "outputs": [
    {
     "data": {
      "text/plain": [
       "True"
      ]
     },
     "execution_count": 2,
     "metadata": {},
     "output_type": "execute_result"
    }
   ],
   "source": [
    "from dotenv import load_dotenv\n",
    "load_dotenv() # load .env api keys "
   ]
  },
  {
   "cell_type": "code",
   "execution_count": 3,
   "metadata": {},
   "outputs": [],
   "source": [
    "from langchain_mistralai.chat_models import ChatMistralAI\n",
    "from langchain_mistralai import MistralAIEmbeddings\n",
    "from langchain_text_splitters import RecursiveCharacterTextSplitter\n",
    "from langchain_community.vectorstores import Chroma\n",
    "from langchain_community.document_loaders import TextLoader\n",
    "from langchain_community.vectorstores import FAISS\n",
    "from langchain import hub"
   ]
  },
  {
   "cell_type": "code",
   "execution_count": 4,
   "metadata": {},
   "outputs": [],
   "source": [
    "llm = ChatMistralAI(model='mistral-large-latest')"
   ]
  },
  {
   "cell_type": "code",
   "execution_count": 5,
   "metadata": {},
   "outputs": [],
   "source": [
    "# 2402.17764\n",
    "from langchain_community.document_loaders import PyPDFLoader\n",
    "loader = PyPDFLoader('./2402.17764.pdf')\n",
    "pages = loader.load_and_split()"
   ]
  },
  {
   "cell_type": "code",
   "execution_count": 6,
   "metadata": {},
   "outputs": [
    {
     "name": "stderr",
     "output_type": "stream",
     "text": [
      "/Users/hugolb/miniconda3/envs/langchain-env/lib/python3.9/site-packages/tqdm/auto.py:21: TqdmWarning: IProgress not found. Please update jupyter and ipywidgets. See https://ipywidgets.readthedocs.io/en/stable/user_install.html\n",
      "  from .autonotebook import tqdm as notebook_tqdm\n"
     ]
    }
   ],
   "source": [
    "text_splitter = RecursiveCharacterTextSplitter(chunk_size=1000, chunk_overlap=200)\n",
    "splits = text_splitter.split_documents(pages)\n",
    "vectorstore = Chroma.from_documents(documents=splits, embedding=MistralAIEmbeddings())\n",
    "\n",
    "retriever = vectorstore.as_retriever()\n",
    "prompt = hub.pull(\"rlm/rag-prompt\")"
   ]
  },
  {
   "cell_type": "code",
   "execution_count": 7,
   "metadata": {},
   "outputs": [],
   "source": [
    "from langchain_core.output_parsers import StrOutputParser\n",
    "from langchain_core.runnables import RunnablePassthrough\n",
    "\n",
    "def format_docs(docs):\n",
    "        return \"\\n\\n\".join(doc.page_content for doc in docs)\n",
    "    \n",
    "    \n",
    "rag_chain = (\n",
    "        {\"context\": retriever | format_docs, \"question\": RunnablePassthrough()}\n",
    "        | prompt\n",
    "        | llm\n",
    "        | StrOutputParser()\n",
    "    )\n",
    "\n"
   ]
  },
  {
   "cell_type": "code",
   "execution_count": 9,
   "metadata": {},
   "outputs": [
    {
     "data": {
      "text/plain": [
       "'The main idea of the paper \"Llama 2: open foundation and fine-tuned chat models\" by Hugo Touvron et al. is the development and evaluation of open foundation and fine-tuned chat models. The paper likely focuses on the implementation and performance of these models, but without more context, it is difficult to provide a more detailed summary.'"
      ]
     },
     "execution_count": 9,
     "metadata": {},
     "output_type": "execute_result"
    }
   ],
   "source": [
    "rag_chain.invoke(\"What is the main idea of the paper?\")"
   ]
  }
 ],
 "metadata": {
  "kernelspec": {
   "display_name": "langchain-env",
   "language": "python",
   "name": "python3"
  },
  "language_info": {
   "codemirror_mode": {
    "name": "ipython",
    "version": 3
   },
   "file_extension": ".py",
   "mimetype": "text/x-python",
   "name": "python",
   "nbconvert_exporter": "python",
   "pygments_lexer": "ipython3",
   "version": "3.9.18"
  }
 },
 "nbformat": 4,
 "nbformat_minor": 2
}
