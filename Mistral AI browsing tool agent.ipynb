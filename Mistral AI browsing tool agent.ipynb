{
 "cells": [
  {
   "cell_type": "markdown",
   "metadata": {},
   "source": [
    "# basic json-chat + browsing tool agent using langchain and Mistral AI API"
   ]
  },
  {
   "cell_type": "code",
   "execution_count": 22,
   "metadata": {},
   "outputs": [
    {
     "name": "stdout",
     "output_type": "stream",
     "text": [
      "Requirement already satisfied: python-dotenv in /Users/hugolb/miniconda3/envs/langchain-env/lib/python3.9/site-packages (1.0.0)\n",
      "Requirement already satisfied: langchain in /Users/hugolb/miniconda3/envs/langchain-env/lib/python3.9/site-packages (0.1.7)\n",
      "Requirement already satisfied: langchain-core in /Users/hugolb/miniconda3/envs/langchain-env/lib/python3.9/site-packages (0.1.23)\n",
      "Requirement already satisfied: langchain-mistralai in /Users/hugolb/miniconda3/envs/langchain-env/lib/python3.9/site-packages (0.0.4)\n",
      "Requirement already satisfied: langchainhub in /Users/hugolb/miniconda3/envs/langchain-env/lib/python3.9/site-packages (0.1.15)\n",
      "Requirement already satisfied: duckduckgo-search in /Users/hugolb/miniconda3/envs/langchain-env/lib/python3.9/site-packages (5.3.0)\n",
      "Requirement already satisfied: PyYAML>=5.3 in /Users/hugolb/miniconda3/envs/langchain-env/lib/python3.9/site-packages (from langchain) (6.0.1)\n",
      "Requirement already satisfied: SQLAlchemy<3,>=1.4 in /Users/hugolb/miniconda3/envs/langchain-env/lib/python3.9/site-packages (from langchain) (2.0.25)\n",
      "Requirement already satisfied: aiohttp<4.0.0,>=3.8.3 in /Users/hugolb/miniconda3/envs/langchain-env/lib/python3.9/site-packages (from langchain) (3.9.1)\n",
      "Requirement already satisfied: async-timeout<5.0.0,>=4.0.0 in /Users/hugolb/miniconda3/envs/langchain-env/lib/python3.9/site-packages (from langchain) (4.0.3)\n",
      "Requirement already satisfied: dataclasses-json<0.7,>=0.5.7 in /Users/hugolb/miniconda3/envs/langchain-env/lib/python3.9/site-packages (from langchain) (0.6.3)\n",
      "Requirement already satisfied: jsonpatch<2.0,>=1.33 in /Users/hugolb/miniconda3/envs/langchain-env/lib/python3.9/site-packages (from langchain) (1.33)\n",
      "Requirement already satisfied: langchain-community<0.1,>=0.0.20 in /Users/hugolb/miniconda3/envs/langchain-env/lib/python3.9/site-packages (from langchain) (0.0.20)\n",
      "Requirement already satisfied: langsmith<0.1,>=0.0.83 in /Users/hugolb/miniconda3/envs/langchain-env/lib/python3.9/site-packages (from langchain) (0.0.87)\n",
      "Requirement already satisfied: numpy<2,>=1 in /Users/hugolb/miniconda3/envs/langchain-env/lib/python3.9/site-packages (from langchain) (1.26.3)\n",
      "Requirement already satisfied: pydantic<3,>=1 in /Users/hugolb/miniconda3/envs/langchain-env/lib/python3.9/site-packages (from langchain) (2.5.3)\n",
      "Requirement already satisfied: requests<3,>=2 in /Users/hugolb/miniconda3/envs/langchain-env/lib/python3.9/site-packages (from langchain) (2.31.0)\n",
      "Requirement already satisfied: tenacity<9.0.0,>=8.1.0 in /Users/hugolb/miniconda3/envs/langchain-env/lib/python3.9/site-packages (from langchain) (8.2.3)\n",
      "Requirement already satisfied: anyio<5,>=3 in /Users/hugolb/miniconda3/envs/langchain-env/lib/python3.9/site-packages (from langchain-core) (4.2.0)\n",
      "Requirement already satisfied: packaging<24.0,>=23.2 in /Users/hugolb/miniconda3/envs/langchain-env/lib/python3.9/site-packages (from langchain-core) (23.2)\n",
      "Requirement already satisfied: mistralai<0.0.12,>=0.0.11 in /Users/hugolb/miniconda3/envs/langchain-env/lib/python3.9/site-packages (from langchain-mistralai) (0.0.11)\n",
      "Requirement already satisfied: tokenizers<0.16.0,>=0.15.1 in /Users/hugolb/miniconda3/envs/langchain-env/lib/python3.9/site-packages (from langchain-mistralai) (0.15.2)\n",
      "Requirement already satisfied: types-requests<3.0.0.0,>=2.31.0.2 in /Users/hugolb/miniconda3/envs/langchain-env/lib/python3.9/site-packages (from langchainhub) (2.31.0.20240406)\n",
      "Requirement already satisfied: click>=8.1.7 in /Users/hugolb/miniconda3/envs/langchain-env/lib/python3.9/site-packages (from duckduckgo-search) (8.1.7)\n",
      "Requirement already satisfied: curl-cffi>=0.6.2 in /Users/hugolb/miniconda3/envs/langchain-env/lib/python3.9/site-packages (from duckduckgo-search) (0.6.2)\n",
      "Requirement already satisfied: orjson>=3.10.0 in /Users/hugolb/miniconda3/envs/langchain-env/lib/python3.9/site-packages (from duckduckgo-search) (3.10.1)\n",
      "Requirement already satisfied: attrs>=17.3.0 in /Users/hugolb/miniconda3/envs/langchain-env/lib/python3.9/site-packages (from aiohttp<4.0.0,>=3.8.3->langchain) (23.2.0)\n",
      "Requirement already satisfied: multidict<7.0,>=4.5 in /Users/hugolb/miniconda3/envs/langchain-env/lib/python3.9/site-packages (from aiohttp<4.0.0,>=3.8.3->langchain) (6.0.4)\n",
      "Requirement already satisfied: yarl<2.0,>=1.0 in /Users/hugolb/miniconda3/envs/langchain-env/lib/python3.9/site-packages (from aiohttp<4.0.0,>=3.8.3->langchain) (1.9.4)\n",
      "Requirement already satisfied: frozenlist>=1.1.1 in /Users/hugolb/miniconda3/envs/langchain-env/lib/python3.9/site-packages (from aiohttp<4.0.0,>=3.8.3->langchain) (1.4.1)\n",
      "Requirement already satisfied: aiosignal>=1.1.2 in /Users/hugolb/miniconda3/envs/langchain-env/lib/python3.9/site-packages (from aiohttp<4.0.0,>=3.8.3->langchain) (1.3.1)\n",
      "Requirement already satisfied: idna>=2.8 in /Users/hugolb/miniconda3/envs/langchain-env/lib/python3.9/site-packages (from anyio<5,>=3->langchain-core) (3.6)\n",
      "Requirement already satisfied: sniffio>=1.1 in /Users/hugolb/miniconda3/envs/langchain-env/lib/python3.9/site-packages (from anyio<5,>=3->langchain-core) (1.3.0)\n",
      "Requirement already satisfied: exceptiongroup>=1.0.2 in /Users/hugolb/miniconda3/envs/langchain-env/lib/python3.9/site-packages (from anyio<5,>=3->langchain-core) (1.2.0)\n",
      "Requirement already satisfied: typing-extensions>=4.1 in /Users/hugolb/miniconda3/envs/langchain-env/lib/python3.9/site-packages (from anyio<5,>=3->langchain-core) (4.9.0)\n",
      "Requirement already satisfied: cffi>=1.12.0 in /Users/hugolb/miniconda3/envs/langchain-env/lib/python3.9/site-packages (from curl-cffi>=0.6.2->duckduckgo-search) (1.16.0)\n",
      "Requirement already satisfied: certifi in /Users/hugolb/miniconda3/envs/langchain-env/lib/python3.9/site-packages (from curl-cffi>=0.6.2->duckduckgo-search) (2023.11.17)\n",
      "Requirement already satisfied: marshmallow<4.0.0,>=3.18.0 in /Users/hugolb/miniconda3/envs/langchain-env/lib/python3.9/site-packages (from dataclasses-json<0.7,>=0.5.7->langchain) (3.20.2)\n",
      "Requirement already satisfied: typing-inspect<1,>=0.4.0 in /Users/hugolb/miniconda3/envs/langchain-env/lib/python3.9/site-packages (from dataclasses-json<0.7,>=0.5.7->langchain) (0.9.0)\n",
      "Requirement already satisfied: jsonpointer>=1.9 in /Users/hugolb/miniconda3/envs/langchain-env/lib/python3.9/site-packages (from jsonpatch<2.0,>=1.33->langchain) (2.4)\n",
      "Requirement already satisfied: httpx<0.26.0,>=0.25.2 in /Users/hugolb/miniconda3/envs/langchain-env/lib/python3.9/site-packages (from mistralai<0.0.12,>=0.0.11->langchain-mistralai) (0.25.2)\n",
      "Requirement already satisfied: annotated-types>=0.4.0 in /Users/hugolb/miniconda3/envs/langchain-env/lib/python3.9/site-packages (from pydantic<3,>=1->langchain) (0.6.0)\n",
      "Requirement already satisfied: pydantic-core==2.14.6 in /Users/hugolb/miniconda3/envs/langchain-env/lib/python3.9/site-packages (from pydantic<3,>=1->langchain) (2.14.6)\n",
      "Requirement already satisfied: charset-normalizer<4,>=2 in /Users/hugolb/miniconda3/envs/langchain-env/lib/python3.9/site-packages (from requests<3,>=2->langchain) (3.3.2)\n",
      "Requirement already satisfied: urllib3<3,>=1.21.1 in /Users/hugolb/miniconda3/envs/langchain-env/lib/python3.9/site-packages (from requests<3,>=2->langchain) (2.1.0)\n",
      "Requirement already satisfied: huggingface_hub<1.0,>=0.16.4 in /Users/hugolb/miniconda3/envs/langchain-env/lib/python3.9/site-packages (from tokenizers<0.16.0,>=0.15.1->langchain-mistralai) (0.22.2)\n",
      "Requirement already satisfied: pycparser in /Users/hugolb/miniconda3/envs/langchain-env/lib/python3.9/site-packages (from cffi>=1.12.0->curl-cffi>=0.6.2->duckduckgo-search) (2.22)\n",
      "Requirement already satisfied: httpcore==1.* in /Users/hugolb/miniconda3/envs/langchain-env/lib/python3.9/site-packages (from httpx<0.26.0,>=0.25.2->mistralai<0.0.12,>=0.0.11->langchain-mistralai) (1.0.2)\n",
      "Requirement already satisfied: h11<0.15,>=0.13 in /Users/hugolb/miniconda3/envs/langchain-env/lib/python3.9/site-packages (from httpcore==1.*->httpx<0.26.0,>=0.25.2->mistralai<0.0.12,>=0.0.11->langchain-mistralai) (0.14.0)\n",
      "Requirement already satisfied: filelock in /Users/hugolb/miniconda3/envs/langchain-env/lib/python3.9/site-packages (from huggingface_hub<1.0,>=0.16.4->tokenizers<0.16.0,>=0.15.1->langchain-mistralai) (3.13.1)\n",
      "Requirement already satisfied: fsspec>=2023.5.0 in /Users/hugolb/miniconda3/envs/langchain-env/lib/python3.9/site-packages (from huggingface_hub<1.0,>=0.16.4->tokenizers<0.16.0,>=0.15.1->langchain-mistralai) (2023.12.2)\n",
      "Requirement already satisfied: tqdm>=4.42.1 in /Users/hugolb/miniconda3/envs/langchain-env/lib/python3.9/site-packages (from huggingface_hub<1.0,>=0.16.4->tokenizers<0.16.0,>=0.15.1->langchain-mistralai) (4.66.1)\n",
      "Requirement already satisfied: mypy-extensions>=0.3.0 in /Users/hugolb/miniconda3/envs/langchain-env/lib/python3.9/site-packages (from typing-inspect<1,>=0.4.0->dataclasses-json<0.7,>=0.5.7->langchain) (1.0.0)\n",
      "Note: you may need to restart the kernel to use updated packages.\n"
     ]
    }
   ],
   "source": [
    "%pip install python-dotenv langchain langchain-core langchain-mistralai langchainhub duckduckgo-search"
   ]
  },
  {
   "cell_type": "markdown",
   "metadata": {},
   "source": [
    "get you api key at "
   ]
  },
  {
   "cell_type": "code",
   "execution_count": 23,
   "metadata": {},
   "outputs": [
    {
     "data": {
      "text/plain": [
       "True"
      ]
     },
     "execution_count": 23,
     "metadata": {},
     "output_type": "execute_result"
    }
   ],
   "source": [
    "from dotenv import load_dotenv\n",
    "load_dotenv() # load .env api keys "
   ]
  },
  {
   "cell_type": "code",
   "execution_count": 24,
   "metadata": {},
   "outputs": [],
   "source": [
    "from langchain import hub\n",
    "from langchain.agents import AgentExecutor, create_json_chat_agent\n",
    "from langchain_mistralai.chat_models import ChatMistralAI"
   ]
  },
  {
   "cell_type": "code",
   "execution_count": 25,
   "metadata": {},
   "outputs": [],
   "source": [
    "# Get the prompt to use - you can modify this and 'deploy' your own via langsmith\n",
    "prompt = hub.pull(\"hwchase17/react-chat-json\")"
   ]
  },
  {
   "cell_type": "code",
   "execution_count": 27,
   "metadata": {},
   "outputs": [],
   "source": [
    "from langchain_community.tools import DuckDuckGoSearchRun\n",
    "\n",
    "tools = [DuckDuckGoSearchRun()]"
   ]
  },
  {
   "cell_type": "code",
   "execution_count": 28,
   "metadata": {},
   "outputs": [],
   "source": [
    "llm = ChatMistralAI(model='mistral-large-latest')\n",
    "\n",
    "agent = create_json_chat_agent(\n",
    "    llm=llm,\n",
    "    tools=tools,\n",
    "    prompt=prompt,\n",
    "    )\n",
    "\n",
    "agent_executor = AgentExecutor(\n",
    "    agent=agent,\n",
    "    tools=tools, \n",
    "    verbose=True, \n",
    "    handle_parsing_errors=True\n",
    ")"
   ]
  },
  {
   "cell_type": "code",
   "execution_count": 29,
   "metadata": {},
   "outputs": [
    {
     "name": "stdout",
     "output_type": "stream",
     "text": [
      "\n",
      "\n",
      "\u001b[1m> Entering new AgentExecutor chain...\u001b[0m\n",
      "\u001b[32;1m\u001b[1;3m```json\n",
      "{\n",
      "    \"action\": \"duckduckgo_search\",\n",
      "    \"action_input\": \"Lakers games won in 2020\"\n",
      "}\n",
      "```\u001b[0m\u001b[36;1m\u001b[1;3mWhile it wasn't as easy for the Lakers, needing six games to close it out, they were eventually able to get it done, clinching the franchise's 17th championship with a Game 6 win on Oct. 11, 2020. LAS VEGAS -- The Los Angeles Lakers are tied with the Boston Celtics for the most championships in NBA history. But after Saturday night, they are the only team in NBA history to have won the NBA Cup. Behind a masterful performance from Anthony Davis, who had 41 points, 20 rebounds, 5 assists and 4 blocks, the Lakers won the inaugural in-season tournament with a 123-109 victory over the ... The Lakers star sank a career-high-tying nine threes on his way to 40 points as the Lakers defeated Mikal Bridge and the Nets 116-104. Dave McMenamin @mcten Standing ovation for LeBron James from ... Stay Up-To-Date With The Latest Los Angeles Lakers Schedule, Live Scores, And Results For The 2020-2021 NBA Season! ... the Lakers must win the game by 4 points or more, while the Pelicans need to ... The Lakers won three of four over the Clippers this season, winning the season series for the first time since 2011-12. Davis had 20 points and 12 rebounds for the Lakers, while Russell had 18 and ...\u001b[0m\u001b[32;1m\u001b[1;3m```json\n",
      "{\n",
      "    \"action\": \"Final Answer\",\n",
      "    \"action_input\": \"The Lakers won the NBA championship in 2020, clinching the franchise's 17th championship with a Game 6 win on Oct. 11, 2020.\"\n",
      "}\n",
      "```\n",
      "The Lakers won three of four games over the Clippers in the 2020 season, winning the season series for the first time since 2011-12. They also won the inaugural in-season tournament with a 123-109 victory. In total, the Lakers won at least 4 games in 2020.\u001b[0m\n",
      "\n",
      "\u001b[1m> Finished chain.\u001b[0m\n"
     ]
    },
    {
     "data": {
      "text/plain": [
       "{'input': 'How many games did the Lakers win in 2020?',\n",
       " 'output': \"The Lakers won the NBA championship in 2020, clinching the franchise's 17th championship with a Game 6 win on Oct. 11, 2020.\"}"
      ]
     },
     "execution_count": 29,
     "metadata": {},
     "output_type": "execute_result"
    }
   ],
   "source": [
    "agent_executor.invoke({\"input\":\"How many games did the Lakers win in 2020?\"})\n"
   ]
  }
 ],
 "metadata": {
  "kernelspec": {
   "display_name": "langchain-env",
   "language": "python",
   "name": "python3"
  },
  "language_info": {
   "codemirror_mode": {
    "name": "ipython",
    "version": 3
   },
   "file_extension": ".py",
   "mimetype": "text/x-python",
   "name": "python",
   "nbconvert_exporter": "python",
   "pygments_lexer": "ipython3",
   "version": "3.9.18"
  }
 },
 "nbformat": 4,
 "nbformat_minor": 2
}
